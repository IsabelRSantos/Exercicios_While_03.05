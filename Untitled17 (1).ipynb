{
  "nbformat": 4,
  "nbformat_minor": 0,
  "metadata": {
    "colab": {
      "provenance": []
    },
    "kernelspec": {
      "name": "python3",
      "display_name": "Python 3"
    },
    "language_info": {
      "name": "python"
    }
  },
  "cells": [
    {
      "cell_type": "code",
      "execution_count": null,
      "metadata": {
        "id": "cpdRzq_XV5Nt"
      },
      "outputs": [],
      "source": [
        "nota=int(input(\"digite uma nota entre zero e dez \"))\n",
        "while nota < 0 or nota > 10:\n",
        "  nota= int(input(\"digite uma nota válida: \"))\n",
        "\n",
        "print(f\"valor válido:{nota}\")"
      ]
    },
    {
      "cell_type": "code",
      "source": [
        "soma=0\n",
        "contador=0\n",
        "quantidade=int(input(\"digite um numero\"))\n",
        "\n",
        "while contador < quantidade:\n",
        "  notas=int(input(\"digite um numero\"))\n",
        "  soma += notas\n",
        "  contador += 1\n",
        "\n",
        "print(f\"A média aritimética das notas sao: {soma/quantidade}\")\n"
      ],
      "metadata": {
        "id": "rAuTVppBba4k"
      },
      "execution_count": null,
      "outputs": []
    },
    {
      "cell_type": "code",
      "source": [
        "a= 1234\n",
        "\n",
        "senha= int(input(\"digite uma senha\"))\n",
        "while senha != a:\n",
        "   print(\"senha inválida\")\n",
        "   senha= int(input(\"digite novamente sua senha\"))\n",
        "   print(\"acesso permitido\")"
      ],
      "metadata": {
        "id": "K59NUS3SeIQo"
      },
      "execution_count": null,
      "outputs": []
    },
    {
      "cell_type": "code",
      "source": [
        "salario= 1000\n",
        "ano_atual = 2024\n",
        "ano_inicial = 1995\n",
        "aumento = 1.5 / 100\n",
        "\n",
        "while ano_inicial != ano_atual:\n",
        "      ano_inicial += 1\n",
        "      salario += salario * aumento\n",
        "      aumento *= 2\n",
        "      print(f\"ano {ano_inicial} é de: R$ {salario:,.2f}\")\n",
        "\n",
        "\n",
        "\n"
      ],
      "metadata": {
        "id": "6_uTQ6Bdfo_h"
      },
      "execution_count": null,
      "outputs": []
    },
    {
      "cell_type": "code",
      "source": [
        "salario= 1000\n",
        "ano_atual = 2024\n",
        "ano_inicial = 1995\n",
        "aumento = 1.5 / 100\n",
        "\n",
        "salario=float(input(\"digite o salario desejado\"))\n",
        "\n",
        "while ano_inicial != ano_atual:\n",
        "      ano_inicial += 1\n",
        "      salario += salario * aumento\n",
        "      aumento *= 2\n",
        "      print(f\"ano {ano_inicial} salario {salario:,.2f}\")\n"
      ],
      "metadata": {
        "id": "zVntGSr45W9Z"
      },
      "execution_count": null,
      "outputs": []
    },
    {
      "cell_type": "code",
      "source": [
        "nome = input(\"digite seu nome: \")\n",
        "while len(nome) < 3:\n",
        "  nome = input(\"digite novamente seu nome: \")\n",
        "  print(\"nome\",nome)\n",
        "\n",
        "idade = int(input(\"digite sua idade: \"))\n",
        "while idade < 0 or idade > 150:\n",
        "  idade = int(input(\"digite novamente sua idade: \"))\n",
        "  print(\"idade\",idade)\n",
        "\n",
        "salario = float(input(\"digite seu salario: \"))\n",
        "while salario < 0:\n",
        "  salario = float(input(\"digite novamente seu salario: \"))\n",
        "  print(\"salario\",salario)\n",
        "\n",
        "sexo = input(\"digite seu sexo (f/m): \")\n",
        "while sexo != \"f\" and sexo != \"m\":\n",
        "  sexo = input(\"digite novamente seu sexo: \")\n",
        "  print(\"sexo\", sexo)\n",
        "\n",
        "estado_civil = input(\"digite seu estado civil: \")\n",
        "while estado_civil != \"s\" and estado_civil != \"c\" and estado_civil != \"v\" and estado_civil != \"d\":\n",
        "  estado_civil = input(\"digite  novamente seu estado civil: \")\n",
        "  print(\"estado civil\", estado_civil)"
      ],
      "metadata": {
        "id": "UAmY3SkI8G_8"
      },
      "execution_count": null,
      "outputs": []
    }
  ]
}